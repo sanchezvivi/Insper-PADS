{
 "cells": [
  {
   "cell_type": "markdown",
   "metadata": {},
   "source": [
    "# Exploratory Analysis: Demographics of Oscars\n",
    "\n",
    "<table align=\"right\">\n",
    "    <tr>\n",
    "        <td>\n",
    "            <img src= \"https://upload.wikimedia.org/wikipedia/pt/4/4c/Oscar_2020.png\"/>\n",
    "        </td>\n",
    "    </tr>\n",
    "</table>\n",
    "\n",
    "### Info\n",
    "\n",
    "1. Dataset: [Demographic of Oscars](https://www.kaggle.com/fmejia21/demographics-of-academy-awards-oscars-winners)\n",
    "2. Goal: Understand how diverse is the universe of the Oscars winners\n",
    "3. This analysis was made as homework for my post graduate degree program (PADS) at [Insper](https://www.insper.edu.br/pos-graduacao/programas-avancados/programa-avancado-em-data-science-e-decisao/), São Paulo, Brazil\n",
    "\n",
    "### Simplifications/Biases:\n",
    "1. Data condfidence is 100% for all points\n",
    "2. All winners from the \"best director\" category are men. (As checked in the name column, only 3 winners were women, which is just the start of what I'm trying to show here)\n",
    "3. The age is calculated at the year of the award"
   ]
  },
  {
   "cell_type": "code",
   "execution_count": 1,
   "metadata": {},
   "outputs": [],
   "source": [
    "import matplotlib.pyplot as plt\n",
    "from datetime import datetime as dt"
   ]
  },
  {
   "cell_type": "code",
   "execution_count": 4,
   "metadata": {},
   "outputs": [],
   "source": [
    "# Reading the dataset\n",
    "f = open(\"Oscars-demographics-DFE.csv\", encoding='ISO-8859-1')\n",
    "lines = f.readlines()\n",
    "f.close()"
   ]
  },
  {
   "cell_type": "code",
   "execution_count": 5,
   "metadata": {},
   "outputs": [
    {
     "name": "stdout",
     "output_type": "stream",
     "text": [
      "_unit_id,_golden,_unit_state,_trusted_judgments,_last_judgment_at,birthplace,birthplace:confidence,date_of_birth,date_of_birth:confidence,race_ethnicity,race_ethnicity:confidence,religion,religion:confidence,sexual_orientation,sexual_orientation:confidence,year_of_award,year_of_award:confidence,award,biourl,birthplace_gold,date_of_birth_gold,movie,person,race_ethnicity_gold,religion_gold,sexual_orientation_gold,year_of_award_gold\n",
      "\n",
      "670454353,FALSE,finalized,3,2/10/15 3:45,\"Chisinau, Moldova\",1,30-Sep-1895,1,White,1,Na,1,Straight,1,1927,1,Best Director,http://www.nndb.com/people/320/000043191/,,,Two Arabian Knights,Lewis Milestone,,,,\n",
      "\n",
      "670454354,FALSE,finalized,3,2/10/15 2:03,\"Glasgow, Scotland\",1,2-Feb-1886,1,White,1,Na,1,Straight,0.6842,1930,1,Best Director,http://www.nndb.com/people/626/000042500/,,,The Divine Lady,Frank Lloyd,,,,\n",
      "\n",
      "670454355,FALSE,finalized,3,2/10/15 2:05,\"Chisinau, Moldova\",1,30-Sep-1895,1,White,1,Na,1,Straight,1,1931,0.6667,Best Director,http://www.nndb.com/people/320/000043191/,,,All Quiet on the Western Front,Lewis Milestone,,,,\n",
      "\n",
      "670454356,FALSE,finalized,3,2/10/15 2:04,\"Chicago, Il\",1,23-Feb-1899,1,White,1,Na,1,Straight,1,1932,1,Best Director,http://www.nndb.com/people/544/000041421/,,,Skippy,Norman Taurog,,,,\n",
      "\n"
     ]
    }
   ],
   "source": [
    "# Showing the first lines\n",
    "for i in range(5):\n",
    "    print(lines[i])"
   ]
  },
  {
   "cell_type": "code",
   "execution_count": 6,
   "metadata": {},
   "outputs": [],
   "source": [
    "def gender(dado):\n",
    "    if dado[-2::] == 'or':\n",
    "        gender = 'male'\n",
    "    elif dado[-2::] == 'ss':\n",
    "        gender = 'female'\n",
    "    else:\n",
    "        gender = 'nonbinary'\n",
    "    return gender"
   ]
  },
  {
   "cell_type": "code",
   "execution_count": 7,
   "metadata": {},
   "outputs": [],
   "source": [
    "def award_age(award_year, birthday):\n",
    "    #print(award_year, birthday)\n",
    "    birth_year = birthday.split('-')[-1][:4]\n",
    "    if len(birth_year) < 4:\n",
    "        if int(award_year) < 2000:\n",
    "            birth_year = 1900 + int(birth_year)\n",
    "        elif int(birth_year) < 14: #possibility of a winner someone under the age of 15\n",
    "            birth_year = 2000 + int(birth_year)\n",
    "        else:\n",
    "            birth_year = 1900 + int(birth_year)\n",
    "    age = int(award_year) - int(birth_year)\n",
    "    #print(age)\n",
    "    return age"
   ]
  },
  {
   "cell_type": "code",
   "execution_count": 10,
   "metadata": {},
   "outputs": [],
   "source": [
    "def country(dado):\n",
    "    if dado.count(',') >= 1:\n",
    "        country = dado.split(', ')[-1]\n",
    "    else:\n",
    "        return 'USA'\n",
    "    #print(country, len(country))\n",
    "    if len(country) == 2 and country != 'UK':\n",
    "        return 'USA'\n",
    "    else:\n",
    "        return country"
   ]
  },
  {
   "cell_type": "code",
   "execution_count": 11,
   "metadata": {},
   "outputs": [
    {
     "name": "stdout",
     "output_type": "stream",
     "text": [
      "[[670946199, 'England', '28-Dec-34', 'White', 'Na', 'Straight', 1970, 'Best Actress', 'female', 36, 'Maggie Smith'], [670946276, 'England', '7-Mar-71', 'White', 'Jewish', 'Straight', 2006, 'Best Supporting Actress', 'female', 35, 'Rachel Weisz'], [670946299, 'England', '20-Oct-56', 'White', 'Roman Catholic', 'Straight', 2009, 'Best Director', 'male', 53, 'Danny Boyle'], [670964912, 'USA', '26-Jul-22', 'White', 'Na', 'Straight', 1977, 'Best Supporting Actor', 'male', 55, 'Jason Robards'], [670964956, 'USA', '31-Aug-28', 'White', 'Na', 'Straight', 1999, 'Best Supporting Actor', 'male', 71, 'James Coburn']]\n"
     ]
    }
   ],
   "source": [
    "# Data processing\n",
    "# Separating data: \n",
    "# - 'unit id\n",
    "# - 'birthplace' (country)\n",
    "# - 'date of birth'\n",
    "# - 'ethnicity'\n",
    "# - 'religion'\n",
    "# - 'sexual orientation'\n",
    "# - 'year of award'\n",
    "# - 'award'\n",
    "# - 'name'\n",
    "\n",
    "#Calculated features:\n",
    "# - 'gender based on award category'\n",
    "# - 'age at award'\n",
    "\n",
    "dados = []\n",
    "#for i in range(1,10):\n",
    "for i in range(1,len(lines)-1):\n",
    "    line_pre = lines[i].split('\"')\n",
    "    #print('i:',i, len(line_pre[0]))\n",
    "    if len(line_pre) < 3 or len(line_pre[0]) > 41:\n",
    "        line = [lines[i].split(',')[0:5],lines[i].split(',')[5],lines[i].split(',')[6:]]\n",
    "    else:\n",
    "        line = [line_pre[0].split(','), country(line_pre[1]),line_pre[2].split(',')]\n",
    "        #print(line[2])\n",
    "        dado = [int(line[0][0]), line[1], line[2][2], line[2][4], line[2][6], line[2][8], int(line[2][10]), line[2][12], gender(line[2][12]),award_age(line[2][10],line[2][2]),line[2][-5]]\n",
    "        dados.append(dado)\n",
    "        \n",
    "print(dados[-5:])"
   ]
  },
  {
   "cell_type": "markdown",
   "metadata": {},
   "source": [
    "### Graph 1: Pie Chart \n",
    "Winners vs Ethnicity"
   ]
  },
  {
   "cell_type": "code",
   "execution_count": 12,
   "metadata": {},
   "outputs": [
    {
     "name": "stdout",
     "output_type": "stream",
     "text": [
      "Multiracial\n",
      "Middle Eastern\n",
      "Multiracial\n"
     ]
    }
   ],
   "source": [
    "cauc = 0\n",
    "afr = 0\n",
    "hisp = 0\n",
    "asian = 0\n",
    "other = 0\n",
    "\n",
    "for i in range(len(dados)):\n",
    "    ethnicity = dados[i][3]\n",
    "    \n",
    "    if ethnicity == 'Black':\n",
    "        afr +=1\n",
    "    elif ethnicity == 'White':\n",
    "        cauc +=1\n",
    "    elif ethnicity == 'Asian':\n",
    "        asian +=1\n",
    "    elif ethnicity == 'Hispanic':\n",
    "        hisp +=1\n",
    "    else:\n",
    "        other +=1\n",
    "        print(ethnicity)\n",
    "        \n",
    "etnias = [cauc, afr, hisp, asian, other]"
   ]
  },
  {
   "cell_type": "code",
   "execution_count": 38,
   "metadata": {},
   "outputs": [
    {
     "data": {
      "image/png": "[encoded data removed]",
      "text/plain": [
       "<Figure size 576x576 with 1 Axes>"
      ]
     },
     "metadata": {},
     "output_type": "display_data"
    }
   ],
   "source": [
    "plt.figure(figsize=(8, 8))\n",
    "plt.pie(etnias, autopct=\"%.1f%%\", labels=[\"White\",'African American','Hispanic','Asian', 'Other'])\n",
    "plt.title(\"Quantity of winners by ethnicity\")\n",
    "plt.show()"
   ]
  },
  {
   "cell_type": "markdown",
   "metadata": {},
   "source": [
    "As shown above, the award is predominantly given to white people"
   ]
  },
  {
   "cell_type": "markdown",
   "metadata": {},
   "source": [
    "### Graph 2: Histogram\n",
    "Age of winners at the year of the award distribution"
   ]
  },
  {
   "cell_type": "code",
   "execution_count": 14,
   "metadata": {},
   "outputs": [
    {
     "name": "stdout",
     "output_type": "stream",
     "text": [
      "[0, 10, 20, 30, 40, 50, 60, 70, 80, 90]\n",
      "[0, 0, 3, 49, 124, 125, 52, 32, 15, 3]\n"
     ]
    }
   ],
   "source": [
    "faixas = []\n",
    "idades = []\n",
    "for i in range(0,100,10):\n",
    "    faixas.append(i)\n",
    "    idades.append(0)\n",
    "\n",
    "print(faixas)\n",
    "\n",
    "for i in range(len(dados)):\n",
    "    idade = dados[i][-2]\n",
    "    if idade > 0:\n",
    "        j = 0\n",
    "        while idade > faixas[j]:\n",
    "            j +=1\n",
    "        idades[j] += 1\n",
    "        #print(idade, faixas[j])\n",
    "print(idades)"
   ]
  },
  {
   "cell_type": "code",
   "execution_count": 15,
   "metadata": {},
   "outputs": [
    {
     "data": {
      "image/png": "[encoded data removed]",
      "text/plain": [
       "<Figure size 432x288 with 1 Axes>"
      ]
     },
     "metadata": {
      "needs_background": "light"
     },
     "output_type": "display_data"
    }
   ],
   "source": [
    "plt.bar(faixas, height = idades, width = 10, align = 'edge')\n",
    "plt.title(\"Winners by age\")\n",
    "plt.show()"
   ]
  },
  {
   "cell_type": "markdown",
   "metadata": {},
   "source": [
    "### Graph 3: Bar Chart\n",
    "Percentage of winner's sexual orientation and religion by gende'"
   ]
  },
  {
   "cell_type": "code",
   "execution_count": 16,
   "metadata": {},
   "outputs": [
    {
     "name": "stdout",
     "output_type": "stream",
     "text": [
      "[166, 237, 0]\n",
      "[[64, 102], [89, 148], [0, 0]]\n",
      "[[18, 148], [24, 213], [0, 0]]\n"
     ]
    }
   ],
   "source": [
    "sexo = [0,0,0] #[women, men, non-binary]\n",
    "religiao = [[0,0],[0,0],[0,0]] #[yes, no]\n",
    "lgbtq = [[0,0],[0,0],[0,0]] #[yes, no]\n",
    "for i in range(len(dados)):\n",
    "    gender = dados[i][-3]\n",
    "    religion = dados[i][4]\n",
    "    orientation = dados[i][5]\n",
    "    \n",
    "    if gender == 'female':\n",
    "        sexo[0] +=1\n",
    "        if religion == 'Na':\n",
    "            religiao[0][1] +=1\n",
    "        else:\n",
    "            religiao[0][0] +=1 \n",
    "        if orientation == 'Straight':\n",
    "            lgbtq[0][1] +=1\n",
    "        else:\n",
    "            lgbtq[0][0] +=1\n",
    "    \n",
    "    elif gender == 'male':\n",
    "        sexo[1] +=1\n",
    "        if religion == 'Na':\n",
    "            religiao[1][1] +=1\n",
    "        else:\n",
    "            religiao[1][0] +=1 \n",
    "        if orientation == 'Straight':\n",
    "            lgbtq[1][1] +=1\n",
    "        else:\n",
    "            lgbtq[1][0] +=1\n",
    "            \n",
    "    else:\n",
    "        sexo[2] +=1\n",
    "        if religion == 'Na':\n",
    "            religiao[2][1] +=1\n",
    "        else:\n",
    "            religiao[2][0] +=1 \n",
    "        if orientation == 'Straight':\n",
    "            lgbtq[2][1] +=1\n",
    "        else:\n",
    "            lgbtq[2][0] +=1\n",
    "            \n",
    "print(sexo)\n",
    "print(religiao)\n",
    "print(lgbtq)"
   ]
  },
  {
   "cell_type": "code",
   "execution_count": 17,
   "metadata": {},
   "outputs": [],
   "source": [
    "import numpy as np"
   ]
  },
  {
   "cell_type": "code",
   "execution_count": 18,
   "metadata": {},
   "outputs": [],
   "source": [
    "pct_female = sexo[0]/sum(sexo)\n",
    "pct_male = 1 - pct_female"
   ]
  },
  {
   "cell_type": "code",
   "execution_count": 19,
   "metadata": {},
   "outputs": [],
   "source": [
    "female_with_religion = religiao[0][0]/sum(religiao[0])\n",
    "female_no_religion = 1 - female_with_religion\n",
    "male_with_religion = religiao[1][0]/sum(religiao[1])\n",
    "male_no_religion = 1 - male_with_religion"
   ]
  },
  {
   "cell_type": "code",
   "execution_count": 20,
   "metadata": {},
   "outputs": [],
   "source": [
    "female_straight = lgbtq[0][1]/sum(lgbtq[0])\n",
    "female_lgbtq = 1 - female_straight\n",
    "male_straight = lgbtq[1][1]/sum(lgbtq[1])\n",
    "male_lgbtq = 1 - male_straight"
   ]
  },
  {
   "cell_type": "code",
   "execution_count": 21,
   "metadata": {},
   "outputs": [],
   "source": [
    "sx = [sexo[0],sexo[1]]\n",
    "rlgn = [religiao[0][0], religiao[1][0]]\n",
    "sxlt = [lgbtq[0][0],lgbtq[1][0]]"
   ]
  },
  {
   "cell_type": "code",
   "execution_count": 35,
   "metadata": {},
   "outputs": [
    {
     "data": {
      "text/plain": [
       "Text(1.0999999999999999, 29, '10.1%')"
      ]
     },
     "execution_count": 35,
     "metadata": {},
     "output_type": "execute_result"
    },
    {
     "data": {
      "image/png": "[encoded data removed]",
      "text/plain": [
       "<Figure size 432x288 with 1 Axes>"
      ]
     },
     "metadata": {
      "needs_background": "light"
     },
     "output_type": "display_data"
    }
   ],
   "source": [
    "labels = ['Women', 'Men']\n",
    "\n",
    "width = 0.2  # the width of the bars\n",
    "x = np.arange(len(labels))  # the label locations\n",
    "\n",
    "fig, ax = plt.subplots()\n",
    "rects1 = ax.bar(x - width, sx, width, label='Gender', align = 'center')\n",
    "rects2 = ax.bar(x, rlgn, width, label='Declared Religion',align = 'center')\n",
    "rects3 = ax.bar(x + width, sxlt, width, label='LGBTQ+',align = 'center')\n",
    "\n",
    "ax.set_ylabel('Quantity')\n",
    "ax.set_title('Sexual Orientation and religion by gender*')\n",
    "ax.set_xticks(x)\n",
    "ax.set_xticklabels(labels)\n",
    "ax.legend()\n",
    "\n",
    "ax.annotate('{:.1%}'.format(pct_female),xy=(0-width-width/2, sx[0]+5))\n",
    "ax.annotate('{:.1%}'.format(pct_male),xy=(1-width-width/2, sx[1]+5))\n",
    "ax.annotate('{:.1%}'.format(female_with_religion),xy=(0-width/2, rlgn[0]+5))\n",
    "ax.annotate('{:.1%}'.format(male_with_religion),xy=(1-width/2, rlgn[1]+5))\n",
    "ax.annotate('{:.1%}'.format(female_lgbtq),xy=(0+width-width/2, sxlt[0]+5))\n",
    "ax.annotate('{:.1%}'.format(male_lgbtq),xy=(1+width-width/2, sxlt[1]+5))"
   ]
  },
  {
   "cell_type": "markdown",
   "metadata": {},
   "source": [
    "*Since there was no observation for non binaries, it's not included in the graph."
   ]
  },
  {
   "cell_type": "markdown",
   "metadata": {},
   "source": [
    "Surprisingly (or not) the quantity of winners of the LGBTQ+ community and that have a declared religion is roughly the same for men and women"
   ]
  },
  {
   "cell_type": "markdown",
   "metadata": {},
   "source": [
    "### Graph 4: Bar Chart\n",
    "Average age by category"
   ]
  },
  {
   "cell_type": "code",
   "execution_count": 21,
   "metadata": {},
   "outputs": [],
   "source": [
    "def avg(idades):\n",
    "    return sum(idades)/len(idades)"
   ]
  },
  {
   "cell_type": "code",
   "execution_count": 22,
   "metadata": {},
   "outputs": [],
   "source": [
    "actress = []\n",
    "director = []\n",
    "actor = []\n",
    "sup_actress = []\n",
    "sup_actor = []\n",
    "\n",
    "for i in range(len(dados)):\n",
    "    idade = dados[i][-2]\n",
    "    categoria = dados[i][7]\n",
    "    name = dados[i][-1]\n",
    "\n",
    "    if categoria == 'Best Actor':\n",
    "        actor.append(idade)\n",
    "    elif categoria == 'Best Actress':\n",
    "        actress.append(idade)\n",
    "    elif categoria == 'Best Director':\n",
    "        director.append(idade)\n",
    "        #print(name, i)\n",
    "    elif categoria == 'Best Supporting Actress':\n",
    "        sup_actress.append(idade)\n",
    "    elif categoria == 'Best Supporting Actor':\n",
    "        sup_actor.append(idade)\n",
    "    else:\n",
    "        print(categoria)\n",
    "        \n",
    "categorias = [actress, actor, director, sup_actress, sup_actor]"
   ]
  },
  {
   "cell_type": "code",
   "execution_count": 23,
   "metadata": {},
   "outputs": [],
   "source": [
    "idades_avg = []\n",
    "for cat in categorias:\n",
    "    idades_avg.append(avg(cat))"
   ]
  },
  {
   "cell_type": "code",
   "execution_count": 24,
   "metadata": {},
   "outputs": [],
   "source": [
    "total_avg = []\n",
    "for media in idades_avg:\n",
    "    total_avg.append(avg(idades_avg))"
   ]
  },
  {
   "cell_type": "code",
   "execution_count": 25,
   "metadata": {},
   "outputs": [],
   "source": [
    "def rotular(valores):\n",
    "    for i in range(len(valores)):\n",
    "        ax.annotate('{:.0f}'.format(valores[i]),xy=(i, valores[i]+0.5))"
   ]
  },
  {
   "cell_type": "code",
   "execution_count": 26,
   "metadata": {},
   "outputs": [
    {
     "data": {
      "image/png": "[encoded data removed]",
      "text/plain": [
       "<Figure size 432x288 with 1 Axes>"
      ]
     },
     "metadata": {
      "needs_background": "light"
     },
     "output_type": "display_data"
    }
   ],
   "source": [
    "fig, ax = plt.subplots()\n",
    "ax.bar(x = ['Actress','Actor','Director','Sup. Actress', 'Sup. Actor'], height = idades_avg, label = 'Average')\n",
    "ax.plot(total_avg, color = 'red', label = 'Média total')\n",
    "\n",
    "ax.set_ylabel('Age')\n",
    "ax.set_title('Average age by category')\n",
    "ax.legend(loc = 'lower right')\n",
    "ax.annotate('{:.0f}'.format(avg(idades_avg)),xy=(0, avg(idades_avg)+0.5), color = 'red')\n",
    "rotular(idades_avg)"
   ]
  }
 ],
 "metadata": {
  "kernelspec": {
   "display_name": "Python 3",
   "language": "python",
   "name": "python3"
  },
  "language_info": {
   "codemirror_mode": {
    "name": "ipython",
    "version": 3
   },
   "file_extension": ".py",
   "mimetype": "text/x-python",
   "name": "python",
   "nbconvert_exporter": "python",
   "pygments_lexer": "ipython3",
   "version": "3.7.7"
  }
 },
 "nbformat": 4,
 "nbformat_minor": 4
}
