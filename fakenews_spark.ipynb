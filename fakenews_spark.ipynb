{
 "cells": [
  {
   "cell_type": "markdown",
   "metadata": {},
   "source": [
    "# Análise de Fake News\n",
    "\n",
    "Exercício realizado para a disciplina de Big Data e Computaçãoem nuvem.\n",
    "\n",
    "Objetivo:\n",
    "* Encontrar padrões nas notícias brasileiras que permitam suspeitar de fake news.\n",
    "\n",
    "Na base de dados __FakeBR Corpus__, disponível em `data/fakenews/full_texts`, extraída de  https://sites.google.com/icmc.usp.br/opinando/, existem duas pastas que separam conjuntos distintos de notícias:\n",
    "* `fake`: com notícias sabidamente falsas;\n",
    "* `true`: com notícias sabidamente verdadeiras."
   ]
  },
  {
   "cell_type": "code",
   "execution_count": 4,
   "metadata": {
    "ExecuteTime": {
     "end_time": "2020-06-02T01:27:21.249539Z",
     "start_time": "2020-06-02T01:27:21.246380Z"
    }
   },
   "outputs": [],
   "source": [
    "datapath = '../data/fakenews/full_texts/'"
   ]
  },
  {
   "cell_type": "code",
   "execution_count": 5,
   "metadata": {
    "ExecuteTime": {
     "end_time": "2020-06-02T01:27:22.646990Z",
     "start_time": "2020-06-02T01:27:21.679578Z"
    }
   },
   "outputs": [],
   "source": [
    "from pyspark.sql import SparkSession\n",
    "import matplotlib.pyplot as plt\n",
    "import pandas as pd\n",
    "import numpy as np\n",
    "import nltk\n",
    "import wordcloud as wc\n",
    "import seaborn as sns\n",
    "import re"
   ]
  },
  {
   "cell_type": "code",
   "execution_count": 6,
   "metadata": {
    "ExecuteTime": {
     "end_time": "2020-06-02T01:27:26.108545Z",
     "start_time": "2020-06-02T01:27:22.649028Z"
    }
   },
   "outputs": [],
   "source": [
    "# criar uma sessão spark\n",
    "spark = SparkSession.builder \\\n",
    "        .master('local[8]') \\\n",
    "        .appName('fakenews') \\\n",
    "        .getOrCreate()"
   ]
  },
  {
   "cell_type": "code",
   "execution_count": 8,
   "metadata": {
    "ExecuteTime": {
     "end_time": "2020-06-02T01:27:27.678863Z",
     "start_time": "2020-06-02T01:27:27.675930Z"
    }
   },
   "outputs": [],
   "source": [
    "sc = spark.sparkContext"
   ]
  },
  {
   "cell_type": "code",
   "execution_count": 9,
   "metadata": {
    "ExecuteTime": {
     "end_time": "2020-06-02T01:27:28.214315Z",
     "start_time": "2020-06-02T01:27:28.207430Z"
    }
   },
   "outputs": [],
   "source": [
    "stopwords = nltk.corpus.stopwords.words('portuguese')"
   ]
  },
  {
   "cell_type": "code",
   "execution_count": 10,
   "metadata": {
    "ExecuteTime": {
     "end_time": "2020-06-02T01:27:28.854830Z",
     "start_time": "2020-06-02T01:27:28.847617Z"
    }
   },
   "outputs": [],
   "source": [
    "parada = ['de','para','em','que','da','mas','na','nos','no','por','pelo','ao','rt','-','e','os','as','um','como','uma','já','oi','até','ele','ela','você','com','tem','aos','esse','essa','este','esta'\n",
    "          'isso','isto','se','vai','ou','dos','das','sobre','está','também','muito','ainda','olá','às','nosso','estão','entre','foi','este',',','?','!',':',';','•','RT','@','-','*','$','(',')','%','\\n',\n",
    "         'te','pode','o','a','deve',' isso','sua','seu','nossa','mai','será','pra','vc',' olá','ola','r$','','após']"
   ]
  },
  {
   "cell_type": "code",
   "execution_count": 11,
   "metadata": {
    "ExecuteTime": {
     "end_time": "2020-06-02T01:27:29.421408Z",
     "start_time": "2020-06-02T01:27:29.418556Z"
    }
   },
   "outputs": [],
   "source": [
    "stopwords = stopwords + parada"
   ]
  },
  {
   "cell_type": "markdown",
   "metadata": {},
   "source": [
    "## Frequência de cada palavra em relação ao total de palavras da base"
   ]
  },
  {
   "cell_type": "code",
   "execution_count": 12,
   "metadata": {
    "ExecuteTime": {
     "end_time": "2020-06-02T01:27:30.865161Z",
     "start_time": "2020-06-02T01:27:30.856379Z"
    }
   },
   "outputs": [],
   "source": [
    "def top_n_palavras(base, n, stopwords):\n",
    "    \n",
    "    base1 = base.map(lambda x: x[1])\n",
    "    base2 = base1.map(lambda x: x.lower().replace('\\n',' ') \\\n",
    "                                    .replace('\\t','') \\\n",
    "                                    .replace('\\r','') \\\n",
    "                                    .replace('\\\\x+[0-9]{2}','') \\\n",
    "                                    #.replace(\"x9*\",' ') \\\n",
    "                                    .replace(',','') \\\n",
    "                                    .replace('.','') \\\n",
    "                                    .replace('?','') \\\n",
    "                                    .replace('!','') \\\n",
    "                                    .replace('\"','') \\\n",
    "                                    #.replace('-',' ') \\\n",
    "                                    .replace(\":\",''))\n",
    "    \n",
    "    base3 = base2.map(lambda x: x.split(' '))\n",
    "    base4 = base3.map(lambda x: (x[0],1))\n",
    "    base5 = base4.filter(lambda x: x[0] not in stopwords)\n",
    "    base6 = base5.reduceByKey(lambda x,y: x+y)\n",
    "    \n",
    "    #contagem do total de palavras da base\n",
    "    word_counter = base3.map(lambda x: len(x[0]))\n",
    "    word_count = word_counter.reduce(lambda x,y: x+y)\n",
    "    \n",
    "    base7 = base6.map(lambda x: (x[0],(x[1], x[1]/word_count)))\n",
    "    \n",
    "    top = base7.takeOrdered(n, lambda x: -x[1][1])\n",
    "    \n",
    "    return top\n",
    "     "
   ]
  },
  {
   "cell_type": "code",
   "execution_count": 13,
   "metadata": {
    "ExecuteTime": {
     "end_time": "2020-06-02T01:27:32.372861Z",
     "start_time": "2020-06-02T01:27:31.830959Z"
    }
   },
   "outputs": [],
   "source": [
    "fake = sc.wholeTextFiles(datapath + '/fake/*.txt')"
   ]
  },
  {
   "cell_type": "code",
   "execution_count": 14,
   "metadata": {
    "ExecuteTime": {
     "end_time": "2020-06-02T01:27:32.587100Z",
     "start_time": "2020-06-02T01:27:32.539531Z"
    }
   },
   "outputs": [],
   "source": [
    "true = sc.wholeTextFiles(datapath + '/true/*.txt')"
   ]
  },
  {
   "cell_type": "markdown",
   "metadata": {},
   "source": [
    "## Aplicando a função nas bases"
   ]
  },
  {
   "cell_type": "code",
   "execution_count": 15,
   "metadata": {
    "ExecuteTime": {
     "end_time": "2020-06-02T01:28:16.738360Z",
     "start_time": "2020-06-02T01:27:34.784778Z"
    }
   },
   "outputs": [],
   "source": [
    "top_fake = top_n_palavras(fake, 100, stopwords)"
   ]
  },
  {
   "cell_type": "code",
   "execution_count": 16,
   "metadata": {
    "ExecuteTime": {
     "end_time": "2020-06-02T01:28:16.746251Z",
     "start_time": "2020-06-02T01:28:16.740617Z"
    },
    "scrolled": true
   },
   "outputs": [
    {
     "data": {
      "text/plain": [
       "[('lula', (97, 0.004574824317313588)),\n",
       " ('dilma', (69, 0.003254256473140593)),\n",
       " ('temer', (50, 0.002358156864594633)),\n",
       " ('urgente', (45, 0.0021223411781351696)),\n",
       " ('deputado', (44, 0.0020751780408432767)),\n",
       " ('jornalista', (40, 0.0018865254916757062)),\n",
       " ('coreia', (36, 0.0016978729425081356)),\n",
       " ('ministro', (35, 0.001650709805216243)),\n",
       " ('presidente', (29, 0.001367730981464887)),\n",
       " ('governo', (29, 0.001367730981464887))]"
      ]
     },
     "execution_count": 16,
     "metadata": {},
     "output_type": "execute_result"
    }
   ],
   "source": [
    "top_fake[:10]"
   ]
  },
  {
   "cell_type": "code",
   "execution_count": 17,
   "metadata": {
    "ExecuteTime": {
     "end_time": "2020-06-02T01:28:54.704167Z",
     "start_time": "2020-06-02T01:28:16.748339Z"
    }
   },
   "outputs": [],
   "source": [
    "top_true = top_n_palavras(true, 100, stopwords)"
   ]
  },
  {
   "cell_type": "code",
   "execution_count": 18,
   "metadata": {
    "ExecuteTime": {
     "end_time": "2020-06-02T01:28:54.711194Z",
     "start_time": "2020-06-02T01:28:54.706062Z"
    }
   },
   "outputs": [
    {
     "data": {
      "text/plain": [
       "[('temer', (60, 0.003251151449471688)),\n",
       " ('veja', (39, 0.0021132484421565972)),\n",
       " ('coreia', (39, 0.0021132484421565972)),\n",
       " ('lula', (38, 0.0020590625846654024)),\n",
       " ('segunda-feira', (36, 0.0019506908696830128)),\n",
       " ('retrospectiva', (35, 0.001896505012191818)),\n",
       " ('terça-feira', (35, 0.001896505012191818)),\n",
       " ('quarta-feira', (33, 0.0017881332972094284)),\n",
       " ('quinta-feira', (32, 0.0017339474397182336)),\n",
       " ('pf', (29, 0.0015713898672446492))]"
      ]
     },
     "execution_count": 18,
     "metadata": {},
     "output_type": "execute_result"
    }
   ],
   "source": [
    "top_true[:10]"
   ]
  },
  {
   "cell_type": "markdown",
   "metadata": {},
   "source": [
    "## Diferença entre as frequências relativas"
   ]
  },
  {
   "cell_type": "code",
   "execution_count": 19,
   "metadata": {
    "ExecuteTime": {
     "end_time": "2020-06-02T01:29:18.075236Z",
     "start_time": "2020-06-02T01:29:18.071599Z"
    }
   },
   "outputs": [],
   "source": [
    "import pandas as pd\n",
    "import numpy as np"
   ]
  },
  {
   "cell_type": "code",
   "execution_count": 20,
   "metadata": {
    "ExecuteTime": {
     "end_time": "2020-06-02T01:29:19.119476Z",
     "start_time": "2020-06-02T01:29:19.114754Z"
    }
   },
   "outputs": [],
   "source": [
    "t_df = pd.DataFrame(top_true, columns = ['word','count'])"
   ]
  },
  {
   "cell_type": "code",
   "execution_count": 21,
   "metadata": {
    "ExecuteTime": {
     "end_time": "2020-06-02T01:29:19.877932Z",
     "start_time": "2020-06-02T01:29:19.873002Z"
    }
   },
   "outputs": [],
   "source": [
    "t_df['pct'] = t_df['count'].str[1]"
   ]
  },
  {
   "cell_type": "code",
   "execution_count": 22,
   "metadata": {
    "ExecuteTime": {
     "end_time": "2020-06-02T01:29:20.469682Z",
     "start_time": "2020-06-02T01:29:20.454022Z"
    }
   },
   "outputs": [
    {
     "data": {
      "text/html": [
       "<div>\n",
       "<style scoped>\n",
       "    .dataframe tbody tr th:only-of-type {\n",
       "        vertical-align: middle;\n",
       "    }\n",
       "\n",
       "    .dataframe tbody tr th {\n",
       "        vertical-align: top;\n",
       "    }\n",
       "\n",
       "    .dataframe thead th {\n",
       "        text-align: right;\n",
       "    }\n",
       "</style>\n",
       "<table border=\"1\" class=\"dataframe\">\n",
       "  <thead>\n",
       "    <tr style=\"text-align: right;\">\n",
       "      <th></th>\n",
       "      <th>word</th>\n",
       "      <th>count</th>\n",
       "      <th>pct</th>\n",
       "    </tr>\n",
       "  </thead>\n",
       "  <tbody>\n",
       "    <tr>\n",
       "      <th>0</th>\n",
       "      <td>temer</td>\n",
       "      <td>(60, 0.003251151449471688)</td>\n",
       "      <td>0.003251</td>\n",
       "    </tr>\n",
       "    <tr>\n",
       "      <th>1</th>\n",
       "      <td>veja</td>\n",
       "      <td>(39, 0.0021132484421565972)</td>\n",
       "      <td>0.002113</td>\n",
       "    </tr>\n",
       "    <tr>\n",
       "      <th>2</th>\n",
       "      <td>coreia</td>\n",
       "      <td>(39, 0.0021132484421565972)</td>\n",
       "      <td>0.002113</td>\n",
       "    </tr>\n",
       "    <tr>\n",
       "      <th>3</th>\n",
       "      <td>lula</td>\n",
       "      <td>(38, 0.0020590625846654024)</td>\n",
       "      <td>0.002059</td>\n",
       "    </tr>\n",
       "    <tr>\n",
       "      <th>4</th>\n",
       "      <td>segunda-feira</td>\n",
       "      <td>(36, 0.0019506908696830128)</td>\n",
       "      <td>0.001951</td>\n",
       "    </tr>\n",
       "  </tbody>\n",
       "</table>\n",
       "</div>"
      ],
      "text/plain": [
       "            word                        count       pct\n",
       "0          temer   (60, 0.003251151449471688)  0.003251\n",
       "1           veja  (39, 0.0021132484421565972)  0.002113\n",
       "2         coreia  (39, 0.0021132484421565972)  0.002113\n",
       "3           lula  (38, 0.0020590625846654024)  0.002059\n",
       "4  segunda-feira  (36, 0.0019506908696830128)  0.001951"
      ]
     },
     "execution_count": 22,
     "metadata": {},
     "output_type": "execute_result"
    }
   ],
   "source": [
    "t_df.head()"
   ]
  },
  {
   "cell_type": "code",
   "execution_count": 23,
   "metadata": {
    "ExecuteTime": {
     "end_time": "2020-06-02T01:29:21.068451Z",
     "start_time": "2020-06-02T01:29:21.064350Z"
    }
   },
   "outputs": [],
   "source": [
    "f_df = pd.DataFrame(top_fake, columns = ['word','count'])"
   ]
  },
  {
   "cell_type": "code",
   "execution_count": 24,
   "metadata": {
    "ExecuteTime": {
     "end_time": "2020-06-02T01:29:21.746811Z",
     "start_time": "2020-06-02T01:29:21.733960Z"
    }
   },
   "outputs": [
    {
     "data": {
      "text/html": [
       "<div>\n",
       "<style scoped>\n",
       "    .dataframe tbody tr th:only-of-type {\n",
       "        vertical-align: middle;\n",
       "    }\n",
       "\n",
       "    .dataframe tbody tr th {\n",
       "        vertical-align: top;\n",
       "    }\n",
       "\n",
       "    .dataframe thead th {\n",
       "        text-align: right;\n",
       "    }\n",
       "</style>\n",
       "<table border=\"1\" class=\"dataframe\">\n",
       "  <thead>\n",
       "    <tr style=\"text-align: right;\">\n",
       "      <th></th>\n",
       "      <th>word</th>\n",
       "      <th>count</th>\n",
       "    </tr>\n",
       "  </thead>\n",
       "  <tbody>\n",
       "    <tr>\n",
       "      <th>0</th>\n",
       "      <td>lula</td>\n",
       "      <td>(97, 0.004574824317313588)</td>\n",
       "    </tr>\n",
       "    <tr>\n",
       "      <th>1</th>\n",
       "      <td>dilma</td>\n",
       "      <td>(69, 0.003254256473140593)</td>\n",
       "    </tr>\n",
       "    <tr>\n",
       "      <th>2</th>\n",
       "      <td>temer</td>\n",
       "      <td>(50, 0.002358156864594633)</td>\n",
       "    </tr>\n",
       "    <tr>\n",
       "      <th>3</th>\n",
       "      <td>urgente</td>\n",
       "      <td>(45, 0.0021223411781351696)</td>\n",
       "    </tr>\n",
       "    <tr>\n",
       "      <th>4</th>\n",
       "      <td>deputado</td>\n",
       "      <td>(44, 0.0020751780408432767)</td>\n",
       "    </tr>\n",
       "    <tr>\n",
       "      <th>...</th>\n",
       "      <td>...</td>\n",
       "      <td>...</td>\n",
       "    </tr>\n",
       "    <tr>\n",
       "      <th>95</th>\n",
       "      <td>brasília</td>\n",
       "      <td>(5, 0.00023581568645946328)</td>\n",
       "    </tr>\n",
       "    <tr>\n",
       "      <th>96</th>\n",
       "      <td>ministra</td>\n",
       "      <td>(5, 0.00023581568645946328)</td>\n",
       "    </tr>\n",
       "    <tr>\n",
       "      <th>97</th>\n",
       "      <td>maior</td>\n",
       "      <td>(5, 0.00023581568645946328)</td>\n",
       "    </tr>\n",
       "    <tr>\n",
       "      <th>98</th>\n",
       "      <td>assista</td>\n",
       "      <td>(5, 0.00023581568645946328)</td>\n",
       "    </tr>\n",
       "    <tr>\n",
       "      <th>99</th>\n",
       "      <td>hackers</td>\n",
       "      <td>(5, 0.00023581568645946328)</td>\n",
       "    </tr>\n",
       "  </tbody>\n",
       "</table>\n",
       "<p>100 rows × 2 columns</p>\n",
       "</div>"
      ],
      "text/plain": [
       "        word                        count\n",
       "0       lula   (97, 0.004574824317313588)\n",
       "1      dilma   (69, 0.003254256473140593)\n",
       "2      temer   (50, 0.002358156864594633)\n",
       "3    urgente  (45, 0.0021223411781351696)\n",
       "4   deputado  (44, 0.0020751780408432767)\n",
       "..       ...                          ...\n",
       "95  brasília  (5, 0.00023581568645946328)\n",
       "96  ministra  (5, 0.00023581568645946328)\n",
       "97     maior  (5, 0.00023581568645946328)\n",
       "98   assista  (5, 0.00023581568645946328)\n",
       "99   hackers  (5, 0.00023581568645946328)\n",
       "\n",
       "[100 rows x 2 columns]"
      ]
     },
     "execution_count": 24,
     "metadata": {},
     "output_type": "execute_result"
    }
   ],
   "source": [
    "f_df"
   ]
  },
  {
   "cell_type": "code",
   "execution_count": 25,
   "metadata": {
    "ExecuteTime": {
     "end_time": "2020-06-02T01:29:22.338883Z",
     "start_time": "2020-06-02T01:29:22.334600Z"
    }
   },
   "outputs": [],
   "source": [
    "f_df['pct'] = f_df['count'].str[1]"
   ]
  },
  {
   "cell_type": "code",
   "execution_count": 26,
   "metadata": {
    "ExecuteTime": {
     "end_time": "2020-06-02T01:29:22.990041Z",
     "start_time": "2020-06-02T01:29:22.984172Z"
    }
   },
   "outputs": [
    {
     "data": {
      "text/plain": [
       "0     0.003251\n",
       "1     0.002113\n",
       "2     0.002113\n",
       "3     0.002059\n",
       "4     0.001951\n",
       "        ...   \n",
       "95    0.000217\n",
       "96    0.000217\n",
       "97    0.000217\n",
       "98    0.000217\n",
       "99    0.000217\n",
       "Name: pct, Length: 100, dtype: float64"
      ]
     },
     "execution_count": 26,
     "metadata": {},
     "output_type": "execute_result"
    }
   ],
   "source": [
    "t_df.pct"
   ]
  },
  {
   "cell_type": "code",
   "execution_count": 27,
   "metadata": {
    "ExecuteTime": {
     "end_time": "2020-06-02T01:29:23.620670Z",
     "start_time": "2020-06-02T01:29:23.614589Z"
    }
   },
   "outputs": [
    {
     "data": {
      "text/plain": [
       "0     0.004575\n",
       "1     0.003254\n",
       "2     0.002358\n",
       "3     0.002122\n",
       "4     0.002075\n",
       "        ...   \n",
       "95    0.000236\n",
       "96    0.000236\n",
       "97    0.000236\n",
       "98    0.000236\n",
       "99    0.000236\n",
       "Name: pct, Length: 100, dtype: float64"
      ]
     },
     "execution_count": 27,
     "metadata": {},
     "output_type": "execute_result"
    }
   ],
   "source": [
    "f_df.pct"
   ]
  },
  {
   "cell_type": "code",
   "execution_count": 28,
   "metadata": {
    "ExecuteTime": {
     "end_time": "2020-06-02T01:29:24.588571Z",
     "start_time": "2020-06-02T01:29:24.579509Z"
    }
   },
   "outputs": [],
   "source": [
    "diff = (t_df.pct)*100 - (f_df.pct)*100"
   ]
  },
  {
   "cell_type": "code",
   "execution_count": 29,
   "metadata": {
    "ExecuteTime": {
     "end_time": "2020-06-02T01:29:25.775421Z",
     "start_time": "2020-06-02T01:29:25.603547Z"
    }
   },
   "outputs": [
    {
     "data": {
      "text/plain": [
       "<matplotlib.axes._subplots.AxesSubplot at 0x7faf5475f210>"
      ]
     },
     "execution_count": 29,
     "metadata": {},
     "output_type": "execute_result"
    },
    {
     "data": {
      "image/png": "[encoded data removed]",
      "text/plain": [
       "<Figure size 432x288 with 1 Axes>"
      ]
     },
     "metadata": {
      "needs_background": "light"
     },
     "output_type": "display_data"
    }
   ],
   "source": [
    "diff.plot(title = \"Diferença entre as 100 palavras mais comuns\")"
   ]
  },
  {
   "cell_type": "markdown",
   "metadata": {},
   "source": [
    "## Gráficos"
   ]
  },
  {
   "cell_type": "code",
   "execution_count": 30,
   "metadata": {
    "ExecuteTime": {
     "end_time": "2020-06-02T01:29:27.890575Z",
     "start_time": "2020-06-02T01:29:27.887674Z"
    }
   },
   "outputs": [],
   "source": [
    "import matplotlib.pyplot as plt"
   ]
  },
  {
   "cell_type": "code",
   "execution_count": 37,
   "metadata": {
    "ExecuteTime": {
     "end_time": "2020-06-02T01:31:09.348798Z",
     "start_time": "2020-06-02T01:31:09.343728Z"
    }
   },
   "outputs": [],
   "source": [
    "word = [item[0] for item in top_true[:30]]\n",
    "pct = [item[1][1]*100 for item in top_true[:30]]  "
   ]
  },
  {
   "cell_type": "code",
   "execution_count": 53,
   "metadata": {
    "ExecuteTime": {
     "end_time": "2020-06-02T01:35:05.114894Z",
     "start_time": "2020-06-02T01:35:04.597874Z"
    }
   },
   "outputs": [
    {
     "data": {
      "text/plain": [
       "Text(0.5, 1.0, 'Top 20 palavras em notícias reais')"
      ]
     },
     "execution_count": 53,
     "metadata": {},
     "output_type": "execute_result"
    },
    {
     "data": {
      "image/png": "[encoded data removed]",
      "text/plain": [
       "<Figure size 1440x720 with 1 Axes>"
      ]
     },
     "metadata": {
      "needs_background": "light"
     },
     "output_type": "display_data"
    }
   ],
   "source": [
    "plt.figure(figsize=(20,10))\n",
    "plt.barh(word, pct)\n",
    "plt.title('Top 20 palavras em notícias reais')"
   ]
  },
  {
   "cell_type": "code",
   "execution_count": 51,
   "metadata": {
    "ExecuteTime": {
     "end_time": "2020-06-02T01:33:56.121605Z",
     "start_time": "2020-06-02T01:33:56.107491Z"
    }
   },
   "outputs": [],
   "source": [
    "word_f = [item[0] for item in top_fake[:30]]\n",
    "pct_f = [item[1][1]*100 for item in top_fake[:30]] "
   ]
  },
  {
   "cell_type": "code",
   "execution_count": 52,
   "metadata": {
    "ExecuteTime": {
     "end_time": "2020-06-02T01:33:57.803033Z",
     "start_time": "2020-06-02T01:33:57.271687Z"
    }
   },
   "outputs": [
    {
     "data": {
      "text/plain": [
       "Text(0.5, 1.0, 'Top 20 palavras em Fake News')"
      ]
     },
     "execution_count": 52,
     "metadata": {},
     "output_type": "execute_result"
    },
    {
     "data": {
      "image/png": "[encoded data removed]",
      "text/plain": [
       "<Figure size 1440x720 with 1 Axes>"
      ]
     },
     "metadata": {
      "needs_background": "light"
     },
     "output_type": "display_data"
    }
   ],
   "source": [
    "plt.figure(figsize=(20,10))\n",
    "plt.barh(word_f, pct_f)\n",
    "plt.title('Top 20 palavras em Fake News')"
   ]
  },
  {
   "cell_type": "markdown",
   "metadata": {},
   "source": [
    "Nota-se que nas notícias reais os assuntos são mais bem distribuídos, enquanto as fake news focam a discussão em torno de Lula e Dilma. Além disso, em notícias reais, há menção recorrente de dias da semana, dando ao leitor uma ideia de \"âncora temporal\". Esta pode ser uma forma preliminar de diferenciar os dois tipos de notícias. Soma-se a isso o fato de siglas de órgãos (\"pf\",\"stf\",\"mpf\") serem possíveis referências às fontes das informações. Em ambas as bases, por outro lado, os nomes dos antigos presidentes e pessoas ligadas ao governo são recorrentes. Com essa breve análise, conclui-se que as notícias reais tendem a informar com mais precisão quando e de onde vieram as informações, enquanto as fake news apenas apontam pessoas de destaque político, mencionadas também nas notícias reais."
   ]
  },
  {
   "cell_type": "markdown",
   "metadata": {},
   "source": [
    "# Spark Stop"
   ]
  },
  {
   "cell_type": "code",
   "execution_count": 134,
   "metadata": {
    "ExecuteTime": {
     "end_time": "2020-05-31T00:18:48.706031Z",
     "start_time": "2020-05-31T00:18:48.541067Z"
    }
   },
   "outputs": [],
   "source": [
    "spark.stop()"
   ]
  }
 ],
 "metadata": {
  "kernelspec": {
   "display_name": "Python 3",
   "language": "python",
   "name": "python3"
  },
  "language_info": {
   "codemirror_mode": {
    "name": "ipython",
    "version": 3
   },
   "file_extension": ".py",
   "mimetype": "text/x-python",
   "name": "python",
   "nbconvert_exporter": "python",
   "pygments_lexer": "ipython3",
   "version": "3.7.7"
  },
  "toc": {
   "base_numbering": 1,
   "nav_menu": {},
   "number_sections": true,
   "sideBar": true,
   "skip_h1_title": false,
   "title_cell": "Table of Contents",
   "title_sidebar": "Contents",
   "toc_cell": false,
   "toc_position": {},
   "toc_section_display": true,
   "toc_window_display": false
  },
  "toc-autonumbering": false
 },
 "nbformat": 4,
 "nbformat_minor": 4
}
